{
 "cells": [
  {
   "cell_type": "code",
   "execution_count": null,
   "metadata": {},
   "outputs": [],
   "source": [
    "import pandas as pd\n",
    "import numpy as np\n",
    "import datetime\n",
    "%matplotlib inline "
   ]
  },
  {
   "cell_type": "code",
   "execution_count": null,
   "metadata": {},
   "outputs": [],
   "source": [
    "import sys\n",
    "sys.path.append(\"..\")\n",
    "from src.models.forecasting_algorithm import weighted_mape\n",
    "from src.models.linear_regression import FA_LinearRegression\n",
    "from src.validators.walk_forward_validation import WalkForwardValidator"
   ]
  },
  {
   "cell_type": "code",
   "execution_count": null,
   "metadata": {},
   "outputs": [],
   "source": [
    "# Generate Xs\n",
    "x1 = np.repeat(np.array(range(1,7)), 20)\n",
    "x2 = np.arange(start=360, stop=1, step=-3)\n",
    "x_redundant = np.random.normal(loc=-10, scale=5, size=len(x1))"
   ]
  },
  {
   "cell_type": "code",
   "execution_count": null,
   "metadata": {},
   "outputs": [],
   "source": [
    "len(x1), len(x2)"
   ]
  },
  {
   "cell_type": "code",
   "execution_count": null,
   "metadata": {},
   "outputs": [],
   "source": [
    "# Generate y\n",
    "coeff1 = 5\n",
    "coeff2 = -2\n",
    "intercept = 10\n",
    "y = coeff1*x1 + coeff2*x2 + intercept + np.random.normal(loc=0, scale=1, size=len(x1))\n",
    "X = pd.DataFrame({'X1': x1, 'X2': x2, 'X3': x_redundant})"
   ]
  },
  {
   "cell_type": "code",
   "execution_count": null,
   "metadata": {},
   "outputs": [],
   "source": [
    "# Fit model\n",
    "model = FA_LinearRegression(confidence_level=80)\n",
    "y_test_pred, y_test_down_pred, features_importances = model.fit_predict(X, y, X)\n",
    "features_importances"
   ]
  },
  {
   "cell_type": "code",
   "execution_count": null,
   "metadata": {},
   "outputs": [],
   "source": [
    "cv = WalkForwardValidator(3, date_col= X['X1'].apply(lambda x: datetime.date(2019, int(x), 1)))"
   ]
  },
  {
   "cell_type": "code",
   "execution_count": null,
   "metadata": {},
   "outputs": [],
   "source": [
    "model = FA_LinearRegression(confidence_level=80, cv=cv)\n",
    "model.do_grid_search(X, y)\n",
    "#model.gs\n",
    "model.cross_val_score(X, y)"
   ]
  },
  {
   "cell_type": "code",
   "execution_count": null,
   "metadata": {},
   "outputs": [],
   "source": [
    "sample_weight = X['X1']\n",
    "sample_weight_series = pd.Series(sample_weight, index=X.index)\n",
    "model = FA_LinearRegression(confidence_level=80, cv=cv, sample_weight_series=sample_weight_series)\n",
    "model.cross_val_score(X, y)"
   ]
  },
  {
   "cell_type": "code",
   "execution_count": null,
   "metadata": {},
   "outputs": [],
   "source": [
    "from sklearn.linear_model import LinearRegression\n",
    "from sklearn.model_selection import cross_val_score\n",
    "from sklearn.metrics import mean_absolute_error, make_scorer\n",
    "\n",
    "def weighted_mape(y_true, y_pred, sample_weight):\n",
    "    if sample_weight is None:\n",
    "        sample_weight = [1]*len(y_pred)\n",
    "    else:\n",
    "        sample_weight = sample_weight.loc[y_true.index.values].values\n",
    "\n",
    "    print(sample_weight)\n",
    "    return mean_absolute_error(y_true, y_pred, sample_weight=sample_weight)\n",
    "\n",
    "score_params = {\"sample_weight\": sample_weight_series}\n",
    "scorer = make_scorer(weighted_mape, greater_is_better=False, **score_params)\n",
    "cross_val_score(LinearRegression(), X, pd.Series(y, index=X.index), cv=cv, scoring=scorer)"
   ]
  }
 ],
 "metadata": {
  "kernelspec": {
   "display_name": "Python 3",
   "language": "python",
   "name": "python3"
  },
  "language_info": {
   "codemirror_mode": {
    "name": "ipython",
    "version": 3
   },
   "file_extension": ".py",
   "mimetype": "text/x-python",
   "name": "python",
   "nbconvert_exporter": "python",
   "pygments_lexer": "ipython3",
   "version": "3.7.3"
  }
 },
 "nbformat": 4,
 "nbformat_minor": 4
}
