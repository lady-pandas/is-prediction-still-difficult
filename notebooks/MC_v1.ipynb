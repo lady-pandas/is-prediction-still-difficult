{
 "cells": [
  {
   "cell_type": "code",
   "execution_count": null,
   "metadata": {},
   "outputs": [],
   "source": [
    "import numpy as np\n",
    "import pandas as pd\n",
    "import matplotlib.pyplot as plt\n",
    "%matplotlib inline  "
   ]
  },
  {
   "cell_type": "code",
   "execution_count": null,
   "metadata": {},
   "outputs": [],
   "source": [
    "# Sample size\n",
    "N = 40\n",
    "h = 6\n",
    "MC = 10000\n",
    "# Probabilities\n",
    "probs = np.random.uniform(low=0, high=1, size=N)\n",
    "probs = np.tile(probs, (MC, h, 1))\n",
    "# Rate\n",
    "rate = np.random.normal(loc=100.0, scale=50.0, size=N)\n",
    "rate = np.tile(rate, (MC, h, 1))\n",
    "# Effort\n",
    "effort = np.random.lognormal(mean=5.0, sigma=1.0, size=(h, N))\n",
    "effort = np.tile(effort, (MC, 1, 1))\n",
    "# Available\n",
    "avail = np.tile([20], (MC, h, N))"
   ]
  },
  {
   "cell_type": "code",
   "execution_count": null,
   "metadata": {},
   "outputs": [],
   "source": [
    "exp_rev = np.sum(np.mean(probs * rate * avail * effort, axis=0), axis=1)"
   ]
  },
  {
   "cell_type": "code",
   "execution_count": null,
   "metadata": {},
   "outputs": [],
   "source": [
    "rev = rate * avail * effort"
   ]
  },
  {
   "cell_type": "code",
   "execution_count": null,
   "metadata": {},
   "outputs": [],
   "source": [
    "suc_fail = np.random.uniform(low=0, high=1, size=MC * N)\n",
    "suc_fail = np.tile(np.reshape(suc_fail, (MC, 1, N)), (1, h, 1))"
   ]
  },
  {
   "cell_type": "code",
   "execution_count": null,
   "metadata": {},
   "outputs": [],
   "source": [
    "sim = (suc_fail < probs ) * rev\n",
    "res_50 = np.quantile(np.sum(sim, axis=2), 0.5, 0)\n",
    "res_10 = np.quantile(np.sum(sim, axis=2), 0.1, 0)"
   ]
  },
  {
   "cell_type": "code",
   "execution_count": null,
   "metadata": {},
   "outputs": [],
   "source": [
    "np.mean(abs(exp_rev - res_50)/exp_rev)"
   ]
  },
  {
   "cell_type": "code",
   "execution_count": null,
   "metadata": {},
   "outputs": [],
   "source": [
    "# First month 'revenue' distribution\n",
    "pd.Series(np.sum(sim, axis=2)[:,1]).hist()"
   ]
  },
  {
   "cell_type": "code",
   "execution_count": null,
   "metadata": {},
   "outputs": [],
   "source": []
  }
 ],
 "metadata": {
  "kernelspec": {
   "display_name": "Python 3",
   "language": "python",
   "name": "python3"
  },
  "language_info": {
   "codemirror_mode": {
    "name": "ipython",
    "version": 3
   },
   "file_extension": ".py",
   "mimetype": "text/x-python",
   "name": "python",
   "nbconvert_exporter": "python",
   "pygments_lexer": "ipython3",
   "version": "3.7.3"
  }
 },
 "nbformat": 4,
 "nbformat_minor": 4
}
